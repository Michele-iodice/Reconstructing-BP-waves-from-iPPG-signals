{
 "cells": [
  {
   "cell_type": "markdown",
   "metadata": {},
   "source": [
    "#### [First-Run Only] Environment Setup\n",
    "\n",
    "The use of this notebook requires an SDR device to be connected to the local machine."
   ]
  },
  {
   "cell_type": "code",
   "execution_count": null,
   "metadata": {
    "scrolled": true,
    "tags": []
   },
   "outputs": [],
   "source": [
    "# SoapySDR module corresponds to SDR selection, e.g.\n",
    "# soapy-module-lms7 -> lime\n",
    "# soapy-module-rtlsdr -> rtlsdr\n",
    "\n",
    "!mamba install -y soapysdr-module-lms7 pyaudio"
   ]
  },
  {
   "cell_type": "markdown",
   "metadata": {},
   "source": [
    "#### Import Dependencies"
   ]
  },
  {
   "cell_type": "code",
   "execution_count": null,
   "metadata": {},
   "outputs": [],
   "source": [
    "from SoapySDR import *\n",
    "import SoapySDR\n",
    "import pyaudio\n",
    "import signal\n",
    "import queue\n",
    "import cupy as cp\n",
    "import cusignal as sig"
   ]
  },
  {
   "cell_type": "markdown",
   "metadata": {},
   "source": [
    "#### Demodulator Settings"
   ]
  },
  {
   "cell_type": "code",
   "execution_count": null,
   "metadata": {},
   "outputs": [],
   "source": [
    "fm_freq = 96.9e6 # FM Station Frequency\n",
    "samp_rate = int(240e3)\n",
    "audio_fs = int(48e3)\n",
    "buff_len = int(1024*(samp_rate//audio_fs))"
   ]
  },
  {
   "cell_type": "markdown",
   "metadata": {},
   "source": [
    "#### SoapySDR Configuration"
   ]
  },
  {
   "cell_type": "code",
   "execution_count": null,
   "metadata": {},
   "outputs": [],
   "source": [
    "args = dict(driver=\"lime\") # SDR Selection (eg.: lime, rtlsdr, plutosdr...)\n",
    "sdr = SoapySDR.Device(args)\n",
    "sdr.setSampleRate(SOAPY_SDR_RX, 0, samp_rate)\n",
    "sdr.setFrequency(SOAPY_SDR_RX, 0, fm_freq)"
   ]
  },
  {
   "cell_type": "markdown",
   "metadata": {},
   "source": [
    "#### FIFO Buffer and Shared Memory Allocation"
   ]
  },
  {
   "cell_type": "code",
   "execution_count": null,
   "metadata": {},
   "outputs": [],
   "source": [
    "que = queue.Queue()\n",
    "buff = sig.get_shared_mem(buff_len, dtype=cp.complex64)"
   ]
  },
  {
   "cell_type": "markdown",
   "metadata": {},
   "source": [
    "#### PyAudio Asynchronous Buffer"
   ]
  },
  {
   "cell_type": "code",
   "execution_count": null,
   "metadata": {},
   "outputs": [],
   "source": [
    "def demod(in_data, frame_count, time_info, status):\n",
    "    b = cp.array(que.get())\n",
    "    b = cp.diff(cp.unwrap(cp.angle(b)))\n",
    "    b = sig.resample_poly(b, 1, 5, window='hamm')\n",
    "    b /= cp.pi\n",
    "    b = cp.asnumpy(b).astype(cp.float32)\n",
    "    return (b, pyaudio.paContinue)\n",
    "\n",
    "p = pyaudio.PyAudio()\n",
    "stream = p.open(format=pyaudio.paFloat32, channels=1, rate=audio_fs, output=True, stream_callback=demod)"
   ]
  },
  {
   "cell_type": "markdown",
   "metadata": {},
   "source": [
    "#### Graceful Exit Handler"
   ]
  },
  {
   "cell_type": "code",
   "execution_count": null,
   "metadata": {},
   "outputs": [],
   "source": [
    "def signal_handler(signum, frame):\n",
    "    stream.stop_stream()\n",
    "    stream.close()\n",
    "    p.terminate()\n",
    "    sdr.closeStream(rx)\n",
    "    exit(-1)\n",
    "    \n",
    "signal.signal(signal.SIGINT, signal_handler)"
   ]
  },
  {
   "cell_type": "markdown",
   "metadata": {},
   "source": [
    "#### Start Collecting Data"
   ]
  },
  {
   "cell_type": "code",
   "execution_count": null,
   "metadata": {},
   "outputs": [],
   "source": [
    "rx = sdr.setupStream(SOAPY_SDR_RX, SOAPY_SDR_CF32)\n",
    "sdr.activateStream(rx)\n",
    "stream.start_stream()\n",
    "\n",
    "while True:\n",
    "    sdr.readStream(rx, [buff], buff_len, timeoutUs=int(8e12))\n",
    "    que.put(buff.astype(cp.complex64).copy())"
   ]
  },
  {
   "cell_type": "code",
   "execution_count": null,
   "metadata": {},
   "outputs": [],
   "source": []
  }
 ],
 "metadata": {
  "kernelspec": {
   "display_name": "Python 3 (ipykernel)",
   "language": "python",
   "name": "python3"
  },
  "language_info": {
   "codemirror_mode": {
    "name": "ipython",
    "version": 3
   },
   "file_extension": ".py",
   "mimetype": "text/x-python",
   "name": "python",
   "nbconvert_exporter": "python",
   "pygments_lexer": "ipython3",
   "version": "3.9.7"
  }
 },
 "nbformat": 4,
 "nbformat_minor": 4
}
